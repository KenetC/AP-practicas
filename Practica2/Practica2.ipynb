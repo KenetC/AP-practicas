{
 "cells": [
  {
   "cell_type": "markdown",
   "metadata": {
    "id": "sZSWq2lIEnbB"
   },
   "source": [
    "# Práctica 2: Introducción a PyTorch\n",
    "\n",
    "## a) Calculando el gradiente mediante Autograd\n",
    "\n",
    "En primer lugar, vamos a calcular del gradiente para el perceptrón simple con función de activación sigmoidea que vimos en la teoría. Pero esta vez, en lugar de realizar manualmente el proceso de backpropagation, vamos a usar el módulo `autograd` de PyTorch.\n",
    "\n",
    "La función $f(x, w)$ a la cual queremos encontrarle el gradiente es:\n",
    "\n",
    "> $f(\\mathbf{x}, \\mathbf{w}) = \\frac{1}{1 + e^{2-(w_0 x_0 + w_1 x_1 + w_2)}}$\n",
    "\n",
    "Definimos entonces la función utilizando `torch.tensor` (recordar usar el parámetro `requires_grad = True` para que PyTorch guarde los gradientes) y realizamos la pasada \"forward\" para los siguientes valores de x y w:\n",
    "\n",
    "> $\\mathbf{x} = (-1, -2)$\n",
    "\n",
    "> $\\mathbf{w} = (2, -3, -3)$\n",
    "\n"
   ]
  },
  {
   "cell_type": "code",
   "execution_count": 12,
   "metadata": {},
   "outputs": [
    {
     "name": "stdout",
     "output_type": "stream",
     "text": [
      "Is GPU available? True\n",
      "Model of the GPU: NVIDIA GeForce RTX 2060\n"
     ]
    }
   ],
   "source": [
    "import os \n",
    "import torch\n",
    "import numpy as np \n",
    "\n",
    "import torch\n",
    "import torch.nn as nn\n",
    "import torch.nn.functional as F\n",
    "from torch.utils.data import TensorDataset, DataLoader\n",
    "from sklearn.linear_model import LinearRegression\n",
    "from numpy.linalg import norm\n",
    "\n",
    "from sklearn.model_selection import train_test_split\n",
    "from torch.utils.data import DataLoader\n",
    "\n",
    "os.environ[\"CUDA_VISIBLE_DEVICES\"] = \"0\"\n",
    "print('Is GPU available?', torch.cuda.is_available())\n",
    "print('Model of the GPU:', torch.cuda.get_device_name(0))\n",
    "device = torch.device(\"cuda:0\" if torch.cuda.is_available() else \"cpu\")"
   ]
  },
  {
   "cell_type": "code",
   "execution_count": 2,
   "metadata": {
    "id": "UczyYh5Nj2u5"
   },
   "outputs": [],
   "source": [
    "x = torch.tensor([-1.0,-2.0],requires_grad = True,device = device)\n",
    "w = torch.tensor([2.0,-3.0,-3.0],requires_grad = True,device = device)\n",
    "\n",
    "def f(x,w):\n",
    "    x0,x1 = x \n",
    "    w0,w1,w2 = w \n",
    "    z = 2-(w0*x0+w1*x1+w2)\n",
    "    return 1/(1 + torch.exp(z))\n",
    "y = f(x,w).to(device)"
   ]
  },
  {
   "cell_type": "markdown",
   "metadata": {
    "id": "zkrbxHMukzHQ"
   },
   "source": [
    "Ahora, utilizando la función `f.backward()` computamos los gradientes $\\frac{\\partial f}{ \\partial \\mathbf{x}}$ y $\\frac{\\partial f}{ \\partial \\mathbf{w}}$"
   ]
  },
  {
   "cell_type": "code",
   "execution_count": 3,
   "metadata": {
    "id": "hXewlL_8YHMU"
   },
   "outputs": [
    {
     "name": "stdout",
     "output_type": "stream",
     "text": [
      "Gradiente df/dx = tensor([ 0.3932, -0.5898], device='cuda:0')\n",
      "Gradiente df/dw = tensor([-0.1966, -0.3932,  0.1966], device='cuda:0')\n"
     ]
    }
   ],
   "source": [
    "y.backward()\n",
    "print(\"Gradiente df/dx = \" + str(x.grad))\n",
    "print(\"Gradiente df/dw = \" + str(w.grad))"
   ]
  },
  {
   "cell_type": "markdown",
   "metadata": {
    "id": "XsXTQ9wJnK2j"
   },
   "source": [
    "## b) Minimizando una función con Gradient Descent\n",
    "\n",
    "Ahora, vamos a implementar usar el algorítmo de gradiente descendiente (utilizando Autograd para computar el gradiente) para minimizar la función cuadrática $$f(x) = 2x^2 + x + 4$$\n",
    "\n",
    "Utilizaremos la implementación `torch.optim.SGD` de gradiente descendiente.\n",
    "\n"
   ]
  },
  {
   "cell_type": "code",
   "execution_count": 4,
   "metadata": {
    "id": "AKc75VsMYS4c",
    "scrolled": true
   },
   "outputs": [
    {
     "data": {
      "text/plain": [
       "[<matplotlib.lines.Line2D at 0x7f6c0aece380>]"
      ]
     },
     "execution_count": 4,
     "metadata": {},
     "output_type": "execute_result"
    },
    {
     "data": {
      "image/png": "[encoded data removed]",
      "text/plain": [
       "<Figure size 432x288 with 1 Axes>"
      ]
     },
     "metadata": {
      "needs_background": "light"
     },
     "output_type": "display_data"
    }
   ],
   "source": [
    "import matplotlib.pyplot as plt\n",
    "\n",
    "# Definimos la funcion a minimizar \n",
    "def g(x): \n",
    "    return 2*x**2 + x +4\n",
    "\n",
    "# Definir la variable que será el parámetro a optimizar\n",
    "x = torch.tensor([1.0],requires_grad=True,device=device)\n",
    "\n",
    "# Definir el optimizador, indicando el parámetro a optimizar y el learning rate\n",
    "optimizer = torch.optim.SGD(params=[x],lr=1e-2)\n",
    "\n",
    "# Acumuladores que usaremos para guardar los valores sucesivos de x, y\n",
    "g_values = []\n",
    "x_values = []\n",
    "\n",
    "# Loop de optimización\n",
    "for i in range(1000):\n",
    "\n",
    "    # Setemos en 0 los gradientes de todos los elementos\n",
    "    optimizer.zero_grad()\n",
    "\n",
    "    # Pasada forward: ejecutar la función a minimizar\n",
    "    y = g(x)\n",
    "\n",
    "    #print(\"X = \" + str(x) + \", g(x) = \" + str(g))\n",
    "\n",
    "    # Pasada backward: computar los gradientes\n",
    "    y.backward()\n",
    "\n",
    "    # Actualizar los pesos dando un paso de gradiente descendiente\n",
    "    optimizer.step()\n",
    "\n",
    "    # Guardar los valores para luego plotearlos\n",
    "    g_values.append(y.data.item())\n",
    "    x_values.append(x.data.item())\n",
    "\n",
    "# Ploteo los valores\n",
    "plt.title(\"Optimizando la función g = 2 * x**2 + x + 4\")\n",
    "plt.xlabel(\"X\")\n",
    "plt.plot(x_values,g_values)"
   ]
  },
  {
   "cell_type": "markdown",
   "metadata": {
    "id": "oTAAwWN2DWEH"
   },
   "source": [
    "# c) Implementando un MLP en PyTorch para predicción del procentaje de grasa corporal\n",
    "\n",
    "Contamos con una base de datos [1] de 252 mediciones del porcentaje de grasa corporal de 252 personas diferentes, el cual puede ser estimado mediante otras características, como la edad, el peso, y mediciones en diferentes partes del cuerpo. A partir de estos datos se pretende desarrollar un sistema que permita predecir dicho porcentaje a partir de las características.\n",
    "\n",
    "[1]: Olson, R.S., La Cava, W., Orzechowski, P. et al. PMLB: a large benchmark suite for machine learning evaluation and comparison. BioData Mining 10, 36 (2017). https://epistasislab.github.io/pmlb/profile/560_bodyfat.html\n",
    "\n",
    "Antes de comenzar, vamos a instalar el paquete de Python que contiene la base de datos:"
   ]
  },
  {
   "cell_type": "code",
   "execution_count": 5,
   "metadata": {
    "id": "GzDa1RLL3TUF",
    "scrolled": true
   },
   "outputs": [
    {
     "name": "stdout",
     "output_type": "stream",
     "text": [
      "Defaulting to user installation because normal site-packages is not writeable\n",
      "Collecting pmlb\n",
      "  Downloading pmlb-1.0.1.post3-py3-none-any.whl (19 kB)\n",
      "Requirement already satisfied: requests>=2.24.0 in /usr/local/lib/python3.10/dist-packages (from pmlb) (2.31.0)\n",
      "Requirement already satisfied: pyyaml>=5.3.1 in /usr/lib/python3/dist-packages (from pmlb) (5.4.1)\n",
      "Requirement already satisfied: pandas>=1.0.5 in /usr/lib/python3/dist-packages (from pmlb) (1.3.5)\n",
      "Requirement already satisfied: certifi>=2017.4.17 in /usr/lib/python3/dist-packages (from requests>=2.24.0->pmlb) (2020.6.20)\n",
      "Requirement already satisfied: charset-normalizer<4,>=2 in /usr/local/lib/python3.10/dist-packages (from requests>=2.24.0->pmlb) (3.3.2)\n",
      "Requirement already satisfied: urllib3<3,>=1.21.1 in /usr/lib/python3/dist-packages (from requests>=2.24.0->pmlb) (1.26.5)\n",
      "Requirement already satisfied: idna<4,>=2.5 in /usr/lib/python3/dist-packages (from requests>=2.24.0->pmlb) (3.3)\n",
      "Installing collected packages: pmlb\n",
      "Successfully installed pmlb-1.0.1.post3\n",
      "Note: you may need to restart the kernel to use updated packages.\n"
     ]
    }
   ],
   "source": [
    "#pip install pmlb"
   ]
  },
  {
   "cell_type": "markdown",
   "metadata": {
    "id": "5ZoNrd9SEFQ9"
   },
   "source": [
    "Ahora vamos a generar un histograma de todas las mediciones del porcentaje con todos los datos disponibles:"
   ]
  },
  {
   "cell_type": "code",
   "execution_count": 5,
   "metadata": {
    "id": "-D-sOjKKSdmp"
   },
   "outputs": [
    {
     "name": "stdout",
     "output_type": "stream",
     "text": [
      "Fila de ejemplo:\n",
      "['Density', 'Age', 'Weight', 'Height', 'Neck', 'Chest', 'Abdomen', 'Hip', 'Thigh', 'Knee', 'Ankle', 'Biceps', 'Forearm', 'Wrist', 'target']\n",
      "[  1.0708  23.     154.25    67.75    36.2     93.1     85.2     94.5\n",
      "  59.      37.3     21.9     32.      27.4     17.1   ]\n"
     ]
    },
    {
     "data": {
      "image/png": "[encoded data removed]",
      "text/plain": [
       "<Figure size 432x288 with 1 Axes>"
      ]
     },
     "metadata": {
      "needs_background": "light"
     },
     "output_type": "display_data"
    }
   ],
   "source": [
    "import matplotlib.pyplot as plt\n",
    "import numpy as np\n",
    "from pmlb import fetch_data\n",
    "seed = 42 \n",
    "# Importamos el dataset\n",
    "body_fat = fetch_data('560_bodyfat')\n",
    "body_fat.describe()\n",
    "\n",
    "# Extraigo los datos (features) y los porcentajes (etiquetas a predecir)\n",
    "data = body_fat.loc[:, body_fat.columns != 'target'].to_numpy()\n",
    "percentages = body_fat.loc[:, body_fat.columns == 'target'].to_numpy()\n",
    "\n",
    "data = data.astype(np.float32)\n",
    "percentages = percentages.astype(np.float32)\n",
    "\n",
    "print(\"Fila de ejemplo:\")\n",
    "print(list(body_fat.columns))\n",
    "print(data[0,:])\n",
    "\n",
    "# Dibujo un histograma del porcentaje de grasa corporal usando todos los datos\n",
    "_ = plt.hist( percentages , 50, density=True, facecolor='g', alpha=0.75)\n",
    "_ = plt.title(\"Porcentaje de grasa corporal\")"
   ]
  },
  {
   "cell_type": "markdown",
   "metadata": {
    "id": "rgc2qJKLmhsB"
   },
   "source": [
    "Particionamos los datos en entrenamiento y prueba usando la función `sklearn.model_selection.train_test_split`"
   ]
  },
  {
   "cell_type": "code",
   "execution_count": 15,
   "metadata": {
    "id": "5WWTSCnnVyRK"
   },
   "outputs": [],
   "source": [
    "# Particiono los datos en entrenamiento y prueba usando el método de scikitlearn\n",
    "X_train, X_test, y_train, y_test = train_test_split(data,percentages,test_size=0.33,\n",
    "                                                    random_state=seed)\n",
    "#X_train, y_train = X_train.to(device), y_train.to(device)"
   ]
  },
  {
   "cell_type": "markdown",
   "metadata": {
    "id": "1_D3sJMCoB_K"
   },
   "source": [
    "Ahora implementaremos en PyTorch un Perceptrón multicapa que usaremos como regresor del porcentaje de grasa corporal (ejemplo basado en el curso de [RPI](https://rpi.analyticsdojo.com/)).\n",
    "\n",
    "El perceptrón deberá contar con 3 capas:\n",
    "- Las dos primeras con 200 neuronas, y deberán usar la función de activación ReLU.\n",
    "- La última con una única neurona cuya salida sea un valor escalar que corresponda al porcentaje de grasa corporal estimado de la persona, que no deberá utilizar ninguna función de activación.\n",
    "\n",
    "Algunas clases de PyTorch que resultarán útiles para implementar el modelo, son:\n",
    "- `torch.nn.Linear`: Implementa una capa totalmente conectada. Es necesario especificarle el número de parámetros de entrada y de salida.\n",
    "- `torch.nn.functional.relu`: Implementa la función de activación ReLU.\n",
    "\n",
    "Además, utilizaremos el optimizador `torch.optim.Adam` y la función de pérdida `torch.nn.MSELoss` (error cuadrático medio).\n",
    "\n",
    "\n",
    "\n",
    "\n"
   ]
  },
  {
   "cell_type": "code",
   "execution_count": 16,
   "metadata": {
    "id": "91rAzYsjkAUa",
    "scrolled": true
   },
   "outputs": [],
   "source": [
    "# Tamaño del batch de entrenamiento\n",
    "batch_size = 32\n",
    "\n",
    "# Tasa de aprendizaje inicial para el gradiente descendente\n",
    "learning_rate = 1e-3\n",
    "\n",
    "class Net(torch.nn.Module):\n",
    "    def __init__(self, input_features, size_hidden, n_output):\n",
    "        super(Net, self).__init__()\n",
    "        self.hidden1 = nn.Linear(input_features,size_hidden)\n",
    "        self.hidden2 = nn.Linear(size_hidden,size_hidden)\n",
    "        self.out = nn.Linear(size_hidden,n_output)\n",
    "\n",
    "    def forward(self, x):\n",
    "        x = F.relu(self.hidden1(x))\n",
    "        x = F.relu(self.hidden2(x))\n",
    "        output = self.out(x)\n",
    "        return output\n",
    "\n",
    "# Definimos un método para mostrar las predicciones como un scatter plot\n",
    "# y graficamos la recta de regresión para esos datos.\n",
    "def plotScatter(x_data, y_data, title, fit_line=True):\n",
    "    plt.figure()\n",
    "\n",
    "    plt.plot(x_data, y_data, '+')\n",
    "    plt.xlabel('Valor real')\n",
    "    plt.ylabel('Predicción')\n",
    "    plt.title(title)\n",
    "\n",
    "    if fit_line:\n",
    "        X, Y = x_data.reshape(-1,1), y_data.reshape(-1,1)\n",
    "        plt.plot( X, LinearRegression().fit(X, Y).predict(X) )"
   ]
  },
  {
   "cell_type": "code",
   "execution_count": 19,
   "metadata": {
    "id": "FhL0-b9J6eoD"
   },
   "outputs": [
    {
     "name": "stdout",
     "output_type": "stream",
     "text": [
      "2.445563793182373\n"
     ]
    },
    {
     "ename": "RuntimeError",
     "evalue": "Expected all tensors to be on the same device, but found at least two devices, cuda:0 and cpu! (when checking argument for argument mat1 in method wrapper_CUDA_addmm)",
     "output_type": "error",
     "traceback": [
      "\u001b[0;31m---------------------------------------------------------------------------\u001b[0m",
      "\u001b[0;31mRuntimeError\u001b[0m                              Traceback (most recent call last)",
      "\u001b[0;32m/tmp/ipykernel_9993/2004874303.py\u001b[0m in \u001b[0;36m<module>\u001b[0;34m\u001b[0m\n\u001b[1;32m     66\u001b[0m     \u001b[0mprint\u001b[0m\u001b[0;34m(\u001b[0m\u001b[0mmin\u001b[0m\u001b[0;34m(\u001b[0m\u001b[0mloss_np_array\u001b[0m\u001b[0;34m)\u001b[0m\u001b[0;34m)\u001b[0m\u001b[0;34m\u001b[0m\u001b[0;34m\u001b[0m\u001b[0m\n\u001b[1;32m     67\u001b[0m     \u001b[0;31m# Dibujamos el ground truth vs las predicciones en los datos de entrenamiento\u001b[0m\u001b[0;34m\u001b[0m\u001b[0;34m\u001b[0m\u001b[0m\n\u001b[0;32m---> 68\u001b[0;31m     \u001b[0mpy\u001b[0m \u001b[0;34m=\u001b[0m \u001b[0mnet\u001b[0m\u001b[0;34m(\u001b[0m\u001b[0mtorch\u001b[0m\u001b[0;34m.\u001b[0m\u001b[0mFloatTensor\u001b[0m\u001b[0;34m(\u001b[0m\u001b[0mX_train\u001b[0m\u001b[0;34m)\u001b[0m\u001b[0;34m)\u001b[0m\u001b[0;34m\u001b[0m\u001b[0;34m\u001b[0m\u001b[0m\n\u001b[0m\u001b[1;32m     69\u001b[0m     \u001b[0my_pred_train\u001b[0m \u001b[0;34m=\u001b[0m \u001b[0mpy\u001b[0m\u001b[0;34m.\u001b[0m\u001b[0mcpu\u001b[0m\u001b[0;34m(\u001b[0m\u001b[0;34m)\u001b[0m\u001b[0;34m.\u001b[0m\u001b[0mdetach\u001b[0m\u001b[0;34m(\u001b[0m\u001b[0;34m)\u001b[0m\u001b[0;34m.\u001b[0m\u001b[0mnumpy\u001b[0m\u001b[0;34m(\u001b[0m\u001b[0;34m)\u001b[0m\u001b[0;34m\u001b[0m\u001b[0;34m\u001b[0m\u001b[0m\n\u001b[1;32m     70\u001b[0m     \u001b[0mplotScatter\u001b[0m\u001b[0;34m(\u001b[0m\u001b[0my_train\u001b[0m\u001b[0;34m,\u001b[0m \u001b[0my_pred_train\u001b[0m\u001b[0;34m,\u001b[0m \u001b[0;34mf\"Training data de {Neuronas} Neuronas\"\u001b[0m\u001b[0;34m)\u001b[0m\u001b[0;34m\u001b[0m\u001b[0;34m\u001b[0m\u001b[0m\n",
      "\u001b[0;32m/usr/lib/python3/dist-packages/torch/nn/modules/module.py\u001b[0m in \u001b[0;36m_wrapped_call_impl\u001b[0;34m(self, *args, **kwargs)\u001b[0m\n\u001b[1;32m   1509\u001b[0m             \u001b[0;32mreturn\u001b[0m \u001b[0mself\u001b[0m\u001b[0;34m.\u001b[0m\u001b[0m_compiled_call_impl\u001b[0m\u001b[0;34m(\u001b[0m\u001b[0;34m*\u001b[0m\u001b[0margs\u001b[0m\u001b[0;34m,\u001b[0m \u001b[0;34m**\u001b[0m\u001b[0mkwargs\u001b[0m\u001b[0;34m)\u001b[0m  \u001b[0;31m# type: ignore[misc]\u001b[0m\u001b[0;34m\u001b[0m\u001b[0;34m\u001b[0m\u001b[0m\n\u001b[1;32m   1510\u001b[0m         \u001b[0;32melse\u001b[0m\u001b[0;34m:\u001b[0m\u001b[0;34m\u001b[0m\u001b[0;34m\u001b[0m\u001b[0m\n\u001b[0;32m-> 1511\u001b[0;31m             \u001b[0;32mreturn\u001b[0m \u001b[0mself\u001b[0m\u001b[0;34m.\u001b[0m\u001b[0m_call_impl\u001b[0m\u001b[0;34m(\u001b[0m\u001b[0;34m*\u001b[0m\u001b[0margs\u001b[0m\u001b[0;34m,\u001b[0m \u001b[0;34m**\u001b[0m\u001b[0mkwargs\u001b[0m\u001b[0;34m)\u001b[0m\u001b[0;34m\u001b[0m\u001b[0;34m\u001b[0m\u001b[0m\n\u001b[0m\u001b[1;32m   1512\u001b[0m \u001b[0;34m\u001b[0m\u001b[0m\n\u001b[1;32m   1513\u001b[0m     \u001b[0;32mdef\u001b[0m \u001b[0m_call_impl\u001b[0m\u001b[0;34m(\u001b[0m\u001b[0mself\u001b[0m\u001b[0;34m,\u001b[0m \u001b[0;34m*\u001b[0m\u001b[0margs\u001b[0m\u001b[0;34m,\u001b[0m \u001b[0;34m**\u001b[0m\u001b[0mkwargs\u001b[0m\u001b[0;34m)\u001b[0m\u001b[0;34m:\u001b[0m\u001b[0;34m\u001b[0m\u001b[0;34m\u001b[0m\u001b[0m\n",
      "\u001b[0;32m/usr/lib/python3/dist-packages/torch/nn/modules/module.py\u001b[0m in \u001b[0;36m_call_impl\u001b[0;34m(self, *args, **kwargs)\u001b[0m\n\u001b[1;32m   1518\u001b[0m                 \u001b[0;32mor\u001b[0m \u001b[0m_global_backward_pre_hooks\u001b[0m \u001b[0;32mor\u001b[0m \u001b[0m_global_backward_hooks\u001b[0m\u001b[0;34m\u001b[0m\u001b[0;34m\u001b[0m\u001b[0m\n\u001b[1;32m   1519\u001b[0m                 or _global_forward_hooks or _global_forward_pre_hooks):\n\u001b[0;32m-> 1520\u001b[0;31m             \u001b[0;32mreturn\u001b[0m \u001b[0mforward_call\u001b[0m\u001b[0;34m(\u001b[0m\u001b[0;34m*\u001b[0m\u001b[0margs\u001b[0m\u001b[0;34m,\u001b[0m \u001b[0;34m**\u001b[0m\u001b[0mkwargs\u001b[0m\u001b[0;34m)\u001b[0m\u001b[0;34m\u001b[0m\u001b[0;34m\u001b[0m\u001b[0m\n\u001b[0m\u001b[1;32m   1521\u001b[0m \u001b[0;34m\u001b[0m\u001b[0m\n\u001b[1;32m   1522\u001b[0m         \u001b[0;32mtry\u001b[0m\u001b[0;34m:\u001b[0m\u001b[0;34m\u001b[0m\u001b[0;34m\u001b[0m\u001b[0m\n",
      "\u001b[0;32m/tmp/ipykernel_9993/3193331399.py\u001b[0m in \u001b[0;36mforward\u001b[0;34m(self, x)\u001b[0m\n\u001b[1;32m     13\u001b[0m \u001b[0;34m\u001b[0m\u001b[0m\n\u001b[1;32m     14\u001b[0m     \u001b[0;32mdef\u001b[0m \u001b[0mforward\u001b[0m\u001b[0;34m(\u001b[0m\u001b[0mself\u001b[0m\u001b[0;34m,\u001b[0m \u001b[0mx\u001b[0m\u001b[0;34m)\u001b[0m\u001b[0;34m:\u001b[0m\u001b[0;34m\u001b[0m\u001b[0;34m\u001b[0m\u001b[0m\n\u001b[0;32m---> 15\u001b[0;31m         \u001b[0mx\u001b[0m \u001b[0;34m=\u001b[0m \u001b[0mF\u001b[0m\u001b[0;34m.\u001b[0m\u001b[0mrelu\u001b[0m\u001b[0;34m(\u001b[0m\u001b[0mself\u001b[0m\u001b[0;34m.\u001b[0m\u001b[0mhidden1\u001b[0m\u001b[0;34m(\u001b[0m\u001b[0mx\u001b[0m\u001b[0;34m)\u001b[0m\u001b[0;34m)\u001b[0m\u001b[0;34m\u001b[0m\u001b[0;34m\u001b[0m\u001b[0m\n\u001b[0m\u001b[1;32m     16\u001b[0m         \u001b[0mx\u001b[0m \u001b[0;34m=\u001b[0m \u001b[0mF\u001b[0m\u001b[0;34m.\u001b[0m\u001b[0mrelu\u001b[0m\u001b[0;34m(\u001b[0m\u001b[0mself\u001b[0m\u001b[0;34m.\u001b[0m\u001b[0mhidden2\u001b[0m\u001b[0;34m(\u001b[0m\u001b[0mx\u001b[0m\u001b[0;34m)\u001b[0m\u001b[0;34m)\u001b[0m\u001b[0;34m\u001b[0m\u001b[0;34m\u001b[0m\u001b[0m\n\u001b[1;32m     17\u001b[0m         \u001b[0moutput\u001b[0m \u001b[0;34m=\u001b[0m \u001b[0mself\u001b[0m\u001b[0;34m.\u001b[0m\u001b[0mout\u001b[0m\u001b[0;34m(\u001b[0m\u001b[0mx\u001b[0m\u001b[0;34m)\u001b[0m\u001b[0;34m\u001b[0m\u001b[0;34m\u001b[0m\u001b[0m\n",
      "\u001b[0;32m/usr/lib/python3/dist-packages/torch/nn/modules/module.py\u001b[0m in \u001b[0;36m_wrapped_call_impl\u001b[0;34m(self, *args, **kwargs)\u001b[0m\n\u001b[1;32m   1509\u001b[0m             \u001b[0;32mreturn\u001b[0m \u001b[0mself\u001b[0m\u001b[0;34m.\u001b[0m\u001b[0m_compiled_call_impl\u001b[0m\u001b[0;34m(\u001b[0m\u001b[0;34m*\u001b[0m\u001b[0margs\u001b[0m\u001b[0;34m,\u001b[0m \u001b[0;34m**\u001b[0m\u001b[0mkwargs\u001b[0m\u001b[0;34m)\u001b[0m  \u001b[0;31m# type: ignore[misc]\u001b[0m\u001b[0;34m\u001b[0m\u001b[0;34m\u001b[0m\u001b[0m\n\u001b[1;32m   1510\u001b[0m         \u001b[0;32melse\u001b[0m\u001b[0;34m:\u001b[0m\u001b[0;34m\u001b[0m\u001b[0;34m\u001b[0m\u001b[0m\n\u001b[0;32m-> 1511\u001b[0;31m             \u001b[0;32mreturn\u001b[0m \u001b[0mself\u001b[0m\u001b[0;34m.\u001b[0m\u001b[0m_call_impl\u001b[0m\u001b[0;34m(\u001b[0m\u001b[0;34m*\u001b[0m\u001b[0margs\u001b[0m\u001b[0;34m,\u001b[0m \u001b[0;34m**\u001b[0m\u001b[0mkwargs\u001b[0m\u001b[0;34m)\u001b[0m\u001b[0;34m\u001b[0m\u001b[0;34m\u001b[0m\u001b[0m\n\u001b[0m\u001b[1;32m   1512\u001b[0m \u001b[0;34m\u001b[0m\u001b[0m\n\u001b[1;32m   1513\u001b[0m     \u001b[0;32mdef\u001b[0m \u001b[0m_call_impl\u001b[0m\u001b[0;34m(\u001b[0m\u001b[0mself\u001b[0m\u001b[0;34m,\u001b[0m \u001b[0;34m*\u001b[0m\u001b[0margs\u001b[0m\u001b[0;34m,\u001b[0m \u001b[0;34m**\u001b[0m\u001b[0mkwargs\u001b[0m\u001b[0;34m)\u001b[0m\u001b[0;34m:\u001b[0m\u001b[0;34m\u001b[0m\u001b[0;34m\u001b[0m\u001b[0m\n",
      "\u001b[0;32m/usr/lib/python3/dist-packages/torch/nn/modules/module.py\u001b[0m in \u001b[0;36m_call_impl\u001b[0;34m(self, *args, **kwargs)\u001b[0m\n\u001b[1;32m   1518\u001b[0m                 \u001b[0;32mor\u001b[0m \u001b[0m_global_backward_pre_hooks\u001b[0m \u001b[0;32mor\u001b[0m \u001b[0m_global_backward_hooks\u001b[0m\u001b[0;34m\u001b[0m\u001b[0;34m\u001b[0m\u001b[0m\n\u001b[1;32m   1519\u001b[0m                 or _global_forward_hooks or _global_forward_pre_hooks):\n\u001b[0;32m-> 1520\u001b[0;31m             \u001b[0;32mreturn\u001b[0m \u001b[0mforward_call\u001b[0m\u001b[0;34m(\u001b[0m\u001b[0;34m*\u001b[0m\u001b[0margs\u001b[0m\u001b[0;34m,\u001b[0m \u001b[0;34m**\u001b[0m\u001b[0mkwargs\u001b[0m\u001b[0;34m)\u001b[0m\u001b[0;34m\u001b[0m\u001b[0;34m\u001b[0m\u001b[0m\n\u001b[0m\u001b[1;32m   1521\u001b[0m \u001b[0;34m\u001b[0m\u001b[0m\n\u001b[1;32m   1522\u001b[0m         \u001b[0;32mtry\u001b[0m\u001b[0;34m:\u001b[0m\u001b[0;34m\u001b[0m\u001b[0;34m\u001b[0m\u001b[0m\n",
      "\u001b[0;32m/usr/lib/python3/dist-packages/torch/nn/modules/linear.py\u001b[0m in \u001b[0;36mforward\u001b[0;34m(self, input)\u001b[0m\n\u001b[1;32m    114\u001b[0m \u001b[0;34m\u001b[0m\u001b[0m\n\u001b[1;32m    115\u001b[0m     \u001b[0;32mdef\u001b[0m \u001b[0mforward\u001b[0m\u001b[0;34m(\u001b[0m\u001b[0mself\u001b[0m\u001b[0;34m,\u001b[0m \u001b[0minput\u001b[0m\u001b[0;34m:\u001b[0m \u001b[0mTensor\u001b[0m\u001b[0;34m)\u001b[0m \u001b[0;34m->\u001b[0m \u001b[0mTensor\u001b[0m\u001b[0;34m:\u001b[0m\u001b[0;34m\u001b[0m\u001b[0;34m\u001b[0m\u001b[0m\n\u001b[0;32m--> 116\u001b[0;31m         \u001b[0;32mreturn\u001b[0m \u001b[0mF\u001b[0m\u001b[0;34m.\u001b[0m\u001b[0mlinear\u001b[0m\u001b[0;34m(\u001b[0m\u001b[0minput\u001b[0m\u001b[0;34m,\u001b[0m \u001b[0mself\u001b[0m\u001b[0;34m.\u001b[0m\u001b[0mweight\u001b[0m\u001b[0;34m,\u001b[0m \u001b[0mself\u001b[0m\u001b[0;34m.\u001b[0m\u001b[0mbias\u001b[0m\u001b[0;34m)\u001b[0m\u001b[0;34m\u001b[0m\u001b[0;34m\u001b[0m\u001b[0m\n\u001b[0m\u001b[1;32m    117\u001b[0m \u001b[0;34m\u001b[0m\u001b[0m\n\u001b[1;32m    118\u001b[0m     \u001b[0;32mdef\u001b[0m \u001b[0mextra_repr\u001b[0m\u001b[0;34m(\u001b[0m\u001b[0mself\u001b[0m\u001b[0;34m)\u001b[0m \u001b[0;34m->\u001b[0m \u001b[0mstr\u001b[0m\u001b[0;34m:\u001b[0m\u001b[0;34m\u001b[0m\u001b[0;34m\u001b[0m\u001b[0m\n",
      "\u001b[0;31mRuntimeError\u001b[0m: Expected all tensors to be on the same device, but found at least two devices, cuda:0 and cpu! (when checking argument for argument mat1 in method wrapper_CUDA_addmm)"
     ]
    },
    {
     "data": {
      "image/png": "[encoded data removed]",
      "text/plain": [
       "<Figure size 432x288 with 1 Axes>"
      ]
     },
     "metadata": {
      "needs_background": "light"
     },
     "output_type": "display_data"
    }
   ],
   "source": [
    "for Neuronas in [2]:\n",
    "    #net = Net().to(device)\n",
    "    net = Net(14,Neuronas,1).to(device)\n",
    "    # Construimos el optimizador, y le indicamos que los parámetros a optimizar\n",
    "    # son los del modelo definido: net.parameters()\n",
    "    optimizer = torch.optim.Adam(net.parameters(), lr=learning_rate)\n",
    "\n",
    "    # Definimos también la función de pérdida a utilizar\n",
    "    criterion = nn.MSELoss().to(device)\n",
    "\n",
    "    # Creamos el objeto dataset que empaqueta los array de numpy para que puedan\n",
    "    # ser leidos por PyTorch\n",
    "    dataset = TensorDataset(torch.from_numpy(X_train).clone(), torch.from_numpy(y_train).clone())\n",
    "\n",
    "    # Creamos un loader iterable indicandole que debe leer los datos a partir de\n",
    "    # del dataset creado en el paso anterior. Este objeto puede ser iterado\n",
    "    # y nos devuelve de a un batch (x, y).\n",
    "    loader = DataLoader(dataset=dataset, batch_size=batch_size, shuffle=True)\n",
    "    # Número de épocas\n",
    "    num_epochs = 5000\n",
    "\n",
    "    # Lista en la que iremos guardando el valor de la función de pérdida en cada\n",
    "    # etapa de entrenamiento\n",
    "    loss_list = []\n",
    "\n",
    "    # Bucle de entrenamiento\n",
    "    for i in range(num_epochs):\n",
    "        total_loss = 0.0\n",
    "        for x, y in loader:\n",
    "            x,y = x.to(device),y.to(device)\n",
    "            # Seteo en cero los gradientes de los parámetros a optimizar\n",
    "            optimizer.zero_grad()\n",
    "\n",
    "            # Realizo la pasada forward por la red\n",
    "            output = net(x)\n",
    "            loss = criterion(output,y)\n",
    "\n",
    "            # Realizo la pasada backward por la red\n",
    "            loss.backward()\n",
    "\n",
    "            # Actualizo los pesos de la red con el optimizador\n",
    "            optimizer.step()\n",
    "\n",
    "            # Me guardo el valor actual de la función de pérdida para luego graficarlo\n",
    "            loss_list.append(loss.data.item())\n",
    "\n",
    "            # Acumulo la loss del minibatch\n",
    "            total_loss += loss.item() * y.size(0)\n",
    "\n",
    "        # Normalizo la loss total\n",
    "        total_loss/= len(loader.dataset)\n",
    "\n",
    "      # Muestro el valor de la función de pérdida cada 100 iteraciones\n",
    "      #if i > 0 and i % 100 == 0:\n",
    "          #print('Epoch %d, loss = %g' % (i, total_loss))\n",
    "\n",
    "    # Muestro la lista que contiene los valores de la función de pérdida\n",
    "    # y una versión suavizada (rojo) para observar la tendencia\n",
    "    plt.figure()\n",
    "    loss_np_array = np.array(loss_list)\n",
    "    plt.plot(loss_np_array, alpha = 0.3)\n",
    "    N = 60\n",
    "    running_avg_loss = np.convolve(loss_np_array, np.ones((N,))/N, mode='valid')\n",
    "    plt.plot(running_avg_loss, color='red')\n",
    "    plt.title(f\"Función de pérdida durante el entrenamiento para #{Neuronas} de neuronas\")\n",
    "    print(min(loss_np_array))\n",
    "    # Dibujamos el ground truth vs las predicciones en los datos de entrenamiento\n",
    "    py = net(torch.FloatTensor(X_train))\n",
    "    y_pred_train = py.cpu().detach().numpy()\n",
    "    plotScatter(y_train, y_pred_train, f\"Training data de {Neuronas} Neuronas\")\n",
    "\n",
    "    # Dibujamos el ground truth vs las predicciones en los datos de test\n",
    "    py = net(torch.FloatTensor(X_test))\n",
    "    y_pred_test = py.cpu().detach().numpy()\n",
    "    plotScatter(y_test, y_pred_test, f\"Test data de {Neuronas} Neuronas\")\n",
    "\n",
    "    print (\"MSE medio en training: \" + str(((y_train - y_pred_train)**2).mean()))\n",
    "    print (\"MSE medio en test: \" + str(((y_test - y_pred_test)**2).mean()))"
   ]
  },
  {
   "cell_type": "markdown",
   "metadata": {
    "id": "Tc8fFGSm-D99"
   },
   "source": [
    "# Entregable\n",
    "1. Encontrar el mínimo de la función *f* definida en el apartado b). Para ello, deberán encontrar primero la derivada *f'(x)* de forma analítica, y utilizarla para computar el mínimo de la función. Posteriormente, deberán corrobarar que el valor coincida con el que obtuvieron optimizando la función con gradiente descendiente.\n",
    "\n",
    "2. Compara el rendimiento de 3 perceptrones multicapa que varíen en la cantidad de neuronas en sus capas intermedia. Probar colocando 2, 10 y 200 neuronas en dichas capas, al entrenar los perceptrones durante 5000 épocas. Mostrar los resultados utilizando:\n",
    "\n",
    "* los gráficos de dispersión con la recta de regresión\n",
    "* el error medio en los datos de entrenamiento y test\n",
    "\n",
    "  Analizar la relación entre dichos resultados y la cantidad de neuronas que posee el perceptrón.\n"
   ]
  },
  {
   "cell_type": "markdown",
   "metadata": {},
   "source": [
    "1.\n",
    "Encontramos el minimo de la funcion de forma analitica:\n",
    "$$ f'(x)= 4x + 1 =^{?}0 $$ luego\n",
    "$$ x = -\\frac{1}{4} $$\n",
    "Vemos que es el minimo, pues es una funcion cuadratica con coeficiente principal positivo, que es lo que nos termino dando cuando minimizamos la funcion con gradiente descendiente.\n",
    "\n",
    "2.\n",
    "El modelo que fue entrenado con 10 neuronas aparentemente funciona mejor que los otros dos, pues presentó un MSE medio más bajo para test, y puede ser indicio de que tiene una capacidad de generalización mayor, aún que el modelo con 200 neuronas haya presentado un valor más bajo en el dataset de entrenamiento, esto indica un sobreajuste, siendo un modelo muy complejo para este problema.\n",
    "\n",
    "Por otro lado el modelo más simple, presenta un subajuste pues pareciera ser un modelo muy simple para el problema presentado."
   ]
  }
 ],
 "metadata": {
  "accelerator": "GPU",
  "colab": {
   "provenance": [
    {
     "file_id": "1yJct12sdK2VlLPFF2WvTm2oK7AYYVpUG",
     "timestamp": 1632439944726
    },
    {
     "file_id": "1RNn3GVL3O9vKa_Euf2_IY95-m7Gi58mQ",
     "timestamp": 1631887093058
    },
    {
     "file_id": "1DTScby_a3yx36WxhyhZRKcVQAgx1iVdF",
     "timestamp": 1631210373349
    }
   ]
  },
  "kernelspec": {
   "display_name": "Python 3 (ipykernel)",
   "language": "python",
   "name": "python3"
  },
  "language_info": {
   "codemirror_mode": {
    "name": "ipython",
    "version": 3
   },
   "file_extension": ".py",
   "mimetype": "text/x-python",
   "name": "python",
   "nbconvert_exporter": "python",
   "pygments_lexer": "ipython3",
   "version": "3.10.12"
  }
 },
 "nbformat": 4,
 "nbformat_minor": 4
}
