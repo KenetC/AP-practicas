{
 "cells": [
  {
   "cell_type": "markdown",
   "metadata": {
    "id": "3J9nZra6t-A4"
   },
   "source": [
    "# Práctica 3: Redes neuronales convolucionales para clasificación de imágenes\n",
    "\n",
    "En esta práctica, vamos a utilizar modelos profundos para clasificar dígitos manuscritos, de forma similar al práctico 1. En este caso, utilizaremos el dataset MNIST donde los dígitos poseen un tamaño de 28x28 (en lugar de 8x8 como en dicho práctico). \n",
    "\n",
    "Para eso, comenzamos por cargar y visualizar el dataset:"
   ]
  },
  {
   "cell_type": "code",
   "execution_count": 5,
   "metadata": {},
   "outputs": [],
   "source": [
    "import matplotlib.pyplot as plt\n",
    "import numpy as np\n",
    "import os \n",
    "import torchvision\n",
    "import torchvision.datasets as datasets\n",
    "import torch\n",
    "import torch.nn as nn\n",
    "import torch.nn.functional as F\n",
    "from torch.utils.data import TensorDataset, DataLoader\n",
    "import sys \n",
    "sys.path.append(os.path.abspath('subdir'))\n",
    "from utils import aux"
   ]
  },
  {
   "cell_type": "code",
   "execution_count": 6,
   "metadata": {},
   "outputs": [
    {
     "name": "stdout",
     "output_type": "stream",
     "text": [
      "Holaa \n"
     ]
    }
   ],
   "source": [
    "aux()"
   ]
  },
  {
   "cell_type": "code",
   "execution_count": 2,
   "metadata": {
    "colab": {
     "base_uri": "https://localhost:8080/",
     "height": 646
    },
    "executionInfo": {
     "elapsed": 2727,
     "status": "ok",
     "timestamp": 1581972954878,
     "user": {
      "displayName": "Enzo Ferrante",
      "photoUrl": "",
      "userId": "08072285581901731690"
     },
     "user_tz": 180
    },
    "id": "q3RwCD8My3Fr",
    "outputId": "c5b35714-8e2f-45c4-ca04-2d152105d676"
   },
   "outputs": [
    {
     "name": "stderr",
     "output_type": "stream",
     "text": [
      "/usr/lib/python3/dist-packages/torchvision/datasets/mnist.py:75: UserWarning: train_data has been renamed data\n",
      "  warnings.warn(\"train_data has been renamed data\")\n"
     ]
    },
    {
     "data": {
      "image/png": "[encoded data removed]",
      "text/plain": [
       "<Figure size 864x720 with 16 Axes>"
      ]
     },
     "metadata": {
      "needs_background": "light"
     },
     "output_type": "display_data"
    }
   ],
   "source": [
    "plt.rcParams['figure.figsize'] = [12, 10]\n",
    "\n",
    "mnist_train = datasets.MNIST(root='./data', \n",
    "                             train=True, \n",
    "                             download=True, \n",
    "                             transform=torchvision.transforms.ToTensor())\n",
    "mnist_test = datasets.MNIST(root='./data', \n",
    "                            train=False, \n",
    "                            download=True, \n",
    "                            transform=torchvision.transforms.ToTensor())\n",
    "\n",
    "for i in range(1,17):\n",
    "    plt.subplot(4,4,i)\n",
    "    plt.imshow(mnist_train.train_data[i,:,:], cmap=plt.get_cmap('gray_r'))\n",
    "    "
   ]
  },
  {
   "cell_type": "markdown",
   "metadata": {
    "id": "CZC9uQ-ivsmz"
   },
   "source": [
    "# Perceptrón multicapa\n",
    "\n",
    "Primero, vamos a adaptar el perceptrón mutlicapa implementado en la práctica anterior, para que pueda clasificar imágenes de 28 x 28 en 10 categorías diferentes. Para ello, deberemos realizar algunos cambios:\n",
    "\n",
    "* Antes de procesar la imagen, deberemos reformatearla para que pase de ser una imagen de 28 x 28, a un vector de 784 componetes. Para ello, utilziaremos el método `view` de los tensores de Pytorch.\n",
    "\n",
    "* Utilizaremos un perceptrón con 15 neuronas en las capas intermedias.\n",
    "\n",
    "* La última capa deberá tener 10 neuronas (en lugar de 1 sola como tenia el perceptrón multicapa que utilizamos para hacer regresión).\n",
    "\n",
    "* Deberemos cambiar la función de pérdida. En este caso, utilizaremos Entropía Cruzada (`torch.nn.CrossEntropyLoss`)"
   ]
  },
  {
   "cell_type": "code",
   "execution_count": 3,
   "metadata": {
    "id": "vSHUXi5u7QmP"
   },
   "outputs": [],
   "source": [
    "class NetMLP(torch.nn.Module):\n",
    "    def __init__(self, input_features, size_hidden, n_output):\n",
    "        super(NetMLP, self).__init__()\n",
    "        self.input_features = input_features\n",
    "        self.hidden1 = nn.Linear(input_features,size_hidden)\n",
    "        self.hidden2 = nn.Linear(size_hidden,size_hidden)\n",
    "        self.out = nn.Linear(size_hidden,n_output)\n",
    "\n",
    "    def forward(self, x):\n",
    "        x = x.view(-1, self.input_features)\n",
    "        x = F.relu(self.hidden1(x))         # linear output\n",
    "        x = F.relu(self.hidden2(x))\n",
    "        output = F.softmax(self.out(x),dim=1) \n",
    "        return output"
   ]
  },
  {
   "cell_type": "code",
   "execution_count": 4,
   "metadata": {},
   "outputs": [],
   "source": [
    "# Definimos el modelo del perceptrón\n",
    "input_features = 28*28\n",
    "hidden_neurons = 15\n",
    "num_outputs = 10\n",
    "\n",
    "# Tamaño del batch de entrenamiento\n",
    "batch_size = 50\n",
    "\n",
    "# Tasa de aprendizaje inicial para el gradiente descendente\n",
    "learning_rate = 0.0001\n",
    "\n",
    "# Dispositivo en que se ejecturá el modelo: 'cuda:0' para GPU y 'cpu' para CPU\n",
    "device = torch.device('cuda:0')"
   ]
  },
  {
   "cell_type": "code",
   "execution_count": 12,
   "metadata": {
    "colab": {
     "base_uri": "https://localhost:8080/",
     "height": 641
    },
    "executionInfo": {
     "elapsed": 9906,
     "status": "ok",
     "timestamp": 1581973034899,
     "user": {
      "displayName": "Enzo Ferrante",
      "photoUrl": "",
      "userId": "08072285581901731690"
     },
     "user_tz": 180
    },
    "id": "O2LMyqdgTN_l",
    "outputId": "e68dc461-b2ca-491f-9786-a95aab452a8f"
   },
   "outputs": [
    {
     "ename": "NameError",
     "evalue": "name 'trainer' is not defined",
     "output_type": "error",
     "traceback": [
      "\u001b[0;31m---------------------------------------------------------------------------\u001b[0m",
      "\u001b[0;31mNameError\u001b[0m                                 Traceback (most recent call last)",
      "\u001b[0;32m/tmp/ipykernel_11472/4116519962.py\u001b[0m in \u001b[0;36m<module>\u001b[0;34m\u001b[0m\n\u001b[1;32m     19\u001b[0m \u001b[0;31m#num_epochs = 5\u001b[0m\u001b[0;34m\u001b[0m\u001b[0;34m\u001b[0m\u001b[0m\n\u001b[1;32m     20\u001b[0m \u001b[0;34m\u001b[0m\u001b[0m\n\u001b[0;32m---> 21\u001b[0;31m \u001b[0mtrainer\u001b[0m\u001b[0;34m(\u001b[0m\u001b[0mnet\u001b[0m\u001b[0;34m,\u001b[0m\u001b[0mcriterion\u001b[0m\u001b[0;34m,\u001b[0m\u001b[0mloader\u001b[0m\u001b[0;34m,\u001b[0m\u001b[0moptimizer\u001b[0m\u001b[0;34m,\u001b[0m\u001b[0mnum_epochs\u001b[0m \u001b[0;34m=\u001b[0m \u001b[0;36m5\u001b[0m\u001b[0;34m)\u001b[0m\u001b[0;34m\u001b[0m\u001b[0;34m\u001b[0m\u001b[0m\n\u001b[0m",
      "\u001b[0;31mNameError\u001b[0m: name 'trainer' is not defined"
     ]
    }
   ],
   "source": [
    "net = NetMLP(input_features, hidden_neurons, num_outputs)\n",
    "net.to(device)\n",
    "\n",
    "# Construimos el optimizador, y le indicamos que los parámetros a optimizar \n",
    "# son los del modelo definido: net.parameters()\n",
    "\n",
    "optimizer = torch.optim.Adam(net.parameters(), lr=learning_rate)\n",
    "\n",
    "# Definimos también la función de pérdida a utilizar\n",
    "criterion = torch.nn.CrossEntropyLoss()\n",
    "#criterion.to(device)\n",
    "\n",
    "# Creamos un loader iterable indicandole que debe leer los datos a partir de\n",
    "# del dataset creado en el paso anterior. Este objeto puede ser iterado\n",
    "# y nos devuelve de a un batch (x, y).\n",
    "loader=DataLoader(dataset=mnist_train,batch_size=batch_size,shuffle=True)\n",
    "\n",
    "# Número de épocas\n",
    "#num_epochs = 5\n",
    "\n",
    "#trainer(net,criterion,loader,optimizer,num_epochs = 5)\n"
   ]
  },
  {
   "cell_type": "markdown",
   "metadata": {
    "id": "-vW_xZCKvmbB"
   },
   "source": [
    "### Guardamos el modelo para poder reutilizarlo"
   ]
  },
  {
   "cell_type": "code",
   "execution_count": 44,
   "metadata": {
    "id": "cEfrOuBieXSQ"
   },
   "outputs": [],
   "source": [
    "torch.save(net.state_dict(), \"./mlp21.pth\")"
   ]
  },
  {
   "cell_type": "markdown",
   "metadata": {
    "id": "DSwSfhyRwiPD"
   },
   "source": [
    "#### Cargamos el modelo y visualizamos los resultados en los datos de test\n",
    "\n",
    "Para ello, utilizaremos los métodos `classification_report` y `confusion_matrix` de scikitlearn."
   ]
  },
  {
   "cell_type": "code",
   "execution_count": 13,
   "metadata": {
    "colab": {
     "base_uri": "https://localhost:8080/",
     "height": 101
    },
    "executionInfo": {
     "elapsed": 1122,
     "status": "ok",
     "timestamp": 1581973973834,
     "user": {
      "displayName": "Enzo Ferrante",
      "photoUrl": "",
      "userId": "08072285581901731690"
     },
     "user_tz": 180
    },
    "id": "KTtl8sCWZQzm",
    "outputId": "359d70c7-ba2f-424f-84f1-a3835b7f5d79"
   },
   "outputs": [
    {
     "data": {
      "text/plain": [
       "NetMLP(\n",
       "  (hidden1): Linear(in_features=784, out_features=15, bias=True)\n",
       "  (hidden2): Linear(in_features=15, out_features=15, bias=True)\n",
       "  (out): Linear(in_features=15, out_features=10, bias=True)\n",
       ")"
      ]
     },
     "execution_count": 13,
     "metadata": {},
     "output_type": "execute_result"
    }
   ],
   "source": [
    "# Cargo el modelo guardado (si el modelo se encuentra en memoria, este paso no es necesario)\n",
    "input_features = 28*28\n",
    "hidden_neurons = 15\n",
    "num_outputs = 10\n",
    "net = NetMLP(input_features,hidden_neurons,num_outputs)\n",
    "net.load_state_dict(torch.load(\"./mlp20.pth\"))\n",
    "net.to(device)"
   ]
  },
  {
   "cell_type": "code",
   "execution_count": 14,
   "metadata": {
    "colab": {
     "base_uri": "https://localhost:8080/",
     "height": 881
    },
    "executionInfo": {
     "elapsed": 3363,
     "status": "ok",
     "timestamp": 1581973984088,
     "user": {
      "displayName": "Enzo Ferrante",
      "photoUrl": "",
      "userId": "08072285581901731690"
     },
     "user_tz": 180
    },
    "id": "uoQZGXDb-ETT",
    "outputId": "27d39e41-ddb6-4805-a5a6-a5de17378235"
   },
   "outputs": [
    {
     "ename": "NameError",
     "evalue": "name 'showTestResults' is not defined",
     "output_type": "error",
     "traceback": [
      "\u001b[0;31m---------------------------------------------------------------------------\u001b[0m",
      "\u001b[0;31mNameError\u001b[0m                                 Traceback (most recent call last)",
      "\u001b[0;32m/tmp/ipykernel_11472/3108428205.py\u001b[0m in \u001b[0;36m<module>\u001b[0;34m\u001b[0m\n\u001b[0;32m----> 1\u001b[0;31m \u001b[0mshowTestResults\u001b[0m\u001b[0;34m(\u001b[0m\u001b[0mnet\u001b[0m\u001b[0;34m)\u001b[0m\u001b[0;34m\u001b[0m\u001b[0;34m\u001b[0m\u001b[0m\n\u001b[0m",
      "\u001b[0;31mNameError\u001b[0m: name 'showTestResults' is not defined"
     ]
    }
   ],
   "source": [
    "showTestResults(net)"
   ]
  },
  {
   "cell_type": "markdown",
   "metadata": {
    "id": "4qQYQziCx5fz"
   },
   "source": [
    "# Red Neuronal Convolucional\n",
    "\n",
    "También definiremos un modelo NetCNN que implemente una red neuronal convolucional, el cual seguirá la siguiente estructura:\n",
    "* Capa convolucional (`nn.Conv2D`) (6 feature maps de salida) + ReLU\n",
    "* Max pooling 2 x 2 (`F.max_pool2d`)\n",
    "* Capa convolucional (`nn.Conv2D`) (16 feature maps de salida) + ReLU\n",
    "* Max pooling 2 x 2 (`F.max_pool2d`)\n",
    "* Capa totalmente conectada (`nn.Linear`) (120 neuronas) + ReLU\n",
    "* Capa totalmente conectada (`nn.Linear`) (84 neuronas) + ReLU\n",
    "* Capa de salida (`nn.Linear`) (10 neuronas)\n",
    "\n",
    "Notar que utilizaremos la función `CrossEntropyLoss` para entrenar el modelo. Recordar que dados:\n",
    "* F: tamaño del filtro\n",
    "* W: Tamaño del feature map de entrada\n",
    "* P: Padding\n",
    "* S: Stride\n",
    "\n",
    "El tamaño de la salida es $O = \\frac{(W - F + 2P)}{S} + 1$\n"
   ]
  },
  {
   "cell_type": "markdown",
   "metadata": {},
   "source": [
    "self.conv1 = nn.Conv2D(out_channels=6)\n",
    "self.conv2 = ...\n",
    "self.fc1 = ...\n",
    "self.fc2 = ...\n",
    "self.fc3 = ..."
   ]
  },
  {
   "cell_type": "code",
   "execution_count": 50,
   "metadata": {
    "id": "CASJs6F-81-D"
   },
   "outputs": [],
   "source": [
    "class NetCNN(nn.Module):\n",
    "    def __init__(self,kernel_s,strides,n):\n",
    "        ks1, ks2 = kernel_s \n",
    "        s1,s2 = strides\n",
    "        super(NetCNN, self).__init__()\n",
    "        self.conv1 = nn.Conv2d(in_channels=1,\n",
    "                             out_channels=6,\n",
    "                             kernel_size=ks1,stride=s1)\n",
    "        self.conv2 = nn.Conv2d(in_channels=6,\n",
    "                             out_channels=16,\n",
    "                             kernel_size=ks2,stride=s2)\n",
    "        self.fc1=nn.Linear(16*n*n,120)\n",
    "        self.fc2=nn.Linear(120,84)\n",
    "        self.fc3=nn.Linear(84,10)\n",
    "\n",
    "    def forward(self, x):\n",
    "        x = F.relu(self.conv1(x))\n",
    "        x = F.max_pool2d(x,kernel_size=2,stride=2)\n",
    "        x = F.relu(self.conv2(x))\n",
    "        x = F.max_pool2d(x,kernel_size=2,stride=2)\n",
    "        # Al pasar de capa convolucional a capa totalmente conectada, tenemos\n",
    "        # que reformatear la salida para que se transforme en un vector unidimensional\n",
    "        x = x.view(-1,16*n*n)\n",
    "        #x = x.flatten(x,1)\n",
    "        x = F.relu(self.fc1(x))\n",
    "        x = F.relu(self.fc2(x))\n",
    "        x = F.softmax(self.fc3(x),dim=1)\n",
    "        return x\n",
    "def train(net):\n",
    "    # Tamaño del batch de entrenamiento\n",
    "    batch_size = 50\n",
    "\n",
    "    # Tasa de aprendizaje inicial para el gradiente descendente\n",
    "    learning_rate = 0.0001\n",
    "\n",
    "    # Construimos el optimizador, y le indicamos que los parámetros a optimizar \n",
    "    # son los del modelo definido: net.parameters()\n",
    "\n",
    "    optimizer = torch.optim.Adam(net.parameters(), lr=learning_rate)\n",
    "\n",
    "    # Definimos también la función de pérdida a utilizar\n",
    "    criterion = torch.nn.CrossEntropyLoss() \n",
    "\n",
    "    # Creamos un loader iterable indicandole que debe leer los datos a partir de\n",
    "    # del dataset creado en el paso anterior. Este objeto puede ser iterado\n",
    "    # y nos devuelve de a un batch (x, y).\n",
    "    loader = DataLoader(dataset=mnist_train, batch_size=32, shuffle=True)\n",
    "\n",
    "    # Número de épocas\n",
    "    num_epochs = 5\n",
    "\n",
    "    # Lista en la que iremos guardando el valor de la función de pérdida en cada \n",
    "    # etapa de entrenamiento\n",
    "    loss_list = []\n",
    "\n",
    "    # Bucle de entrenamiento\n",
    "    for i in range(num_epochs):\n",
    "\n",
    "        # Itero sobre todos los batches del dataset\n",
    "        for x, y in loader:\n",
    "            # Seteo en cero los gradientes de los parámetros a optimizar\n",
    "            optimizer.zero_grad()\n",
    "\n",
    "            # Movemos los tensores a memoria de GPU\n",
    "            x = x.to(device)\n",
    "            y = y.to(device)\n",
    "\n",
    "            # Realizo la pasada forward por la red\n",
    "            loss = criterion(net(x), y)\n",
    "\n",
    "            # Realizo la pasada backward por la red        \n",
    "            loss.backward()\n",
    "\n",
    "            # Actualizo los pesos de la red con el optimizador\n",
    "            optimizer.step()\n",
    "\n",
    "            # Me guardo el valor actual de la función de pérdida para luego graficarlo\n",
    "            loss_list.append(loss.data.item())\n",
    "\n",
    "        # Muestro el valor de la función de pérdida cada 100 iteraciones        \n",
    "        #if i > 0 and i % 100 == 0:\n",
    "        print('Epoch %d, loss = %g' % (i, loss))\n",
    "\n",
    "    # Muestro la lista que contiene los valores de la función de pérdida\n",
    "    # y una versión suavizada (rojo) para observar la tendencia\n",
    "    plt.figure()\n",
    "    loss_np_array = np.array(loss_list)\n",
    "    plt.plot(loss_np_array, alpha = 0.3)\n",
    "    N = 60\n",
    "    running_avg_loss = np.convolve(loss_np_array, np.ones((N,))/N, mode='valid')\n",
    "    plt.plot(running_avg_loss, color='red')\n",
    "    plt.title(\"Función de pérdida durante el entrenamiento\")"
   ]
  },
  {
   "cell_type": "code",
   "execution_count": 51,
   "metadata": {},
   "outputs": [],
   "source": [
    "device = torch.device('cuda:0')\n",
    "kernels=[5,3] \n",
    "strides=[1,1]\n",
    "n=5"
   ]
  },
  {
   "cell_type": "code",
   "execution_count": 52,
   "metadata": {
    "colab": {
     "base_uri": "https://localhost:8080/",
     "height": 708
    },
    "executionInfo": {
     "elapsed": 59362,
     "status": "ok",
     "timestamp": 1581974135663,
     "user": {
      "displayName": "Enzo Ferrante",
      "photoUrl": "",
      "userId": "08072285581901731690"
     },
     "user_tz": 180
    },
    "id": "3OPpxicsy824",
    "outputId": "5add5150-262f-490e-c7cb-c19bd970d470"
   },
   "outputs": [
    {
     "name": "stdout",
     "output_type": "stream",
     "text": [
      "Epoch 0, loss = 1.61929\n",
      "Epoch 1, loss = 1.51953\n",
      "Epoch 2, loss = 1.61363\n",
      "Epoch 3, loss = 1.51837\n",
      "Epoch 4, loss = 1.51043\n"
     ]
    },
    {
     "data": {
      "image/png": "[encoded data removed]",
      "text/plain": [
       "<Figure size 864x720 with 1 Axes>"
      ]
     },
     "metadata": {
      "needs_background": "light"
     },
     "output_type": "display_data"
    }
   ],
   "source": [
    "net = NetCNN(kernels,strides,n)\n",
    "net.to(device)\n",
    "train(net)"
   ]
  },
  {
   "cell_type": "code",
   "execution_count": null,
   "metadata": {},
   "outputs": [],
   "source": [
    "net2 = NetCNN([])"
   ]
  },
  {
   "cell_type": "markdown",
   "metadata": {
    "id": "mtrwJZ68-rrm"
   },
   "source": [
    "### Guardo el modelo"
   ]
  },
  {
   "cell_type": "code",
   "execution_count": 44,
   "metadata": {
    "id": "myleQmjIzhz3"
   },
   "outputs": [],
   "source": [
    "torch.save(net.state_dict(), \"./cnn21.pth\")"
   ]
  },
  {
   "cell_type": "markdown",
   "metadata": {
    "id": "oDC2H8Cr-7kB"
   },
   "source": [
    "#### Cargamos el modelo y visualizamos los resultados en los datos de test\n",
    "\n",
    "Para ello, utilizaremos los métodos `classification_report` y `confusion_matrix` de scikitlearn."
   ]
  },
  {
   "cell_type": "code",
   "execution_count": 33,
   "metadata": {
    "id": "m6ItAZr0_PhD"
   },
   "outputs": [
    {
     "data": {
      "text/plain": [
       "NetCNN(\n",
       "  (conv1): Conv2d(1, 6, kernel_size=(3, 3), stride=(1, 1))\n",
       "  (conv2): Conv2d(6, 16, kernel_size=(3, 3), stride=(2, 2))\n",
       "  (fc1): Linear(in_features=144, out_features=120, bias=True)\n",
       "  (fc2): Linear(in_features=120, out_features=84, bias=True)\n",
       "  (fc3): Linear(in_features=84, out_features=10, bias=True)\n",
       ")"
      ]
     },
     "execution_count": 33,
     "metadata": {},
     "output_type": "execute_result"
    }
   ],
   "source": [
    "# Cargamos el modelo (no es necesario si el modelo se encuentra en memoria)\n",
    "net = NetCNN()\n",
    "net.load_state_dict(torch.load(\"./cnn20.pth\"))\n",
    "net.to(device)"
   ]
  },
  {
   "cell_type": "code",
   "execution_count": 53,
   "metadata": {
    "colab": {
     "base_uri": "https://localhost:8080/",
     "height": 881
    },
    "executionInfo": {
     "elapsed": 3312,
     "status": "ok",
     "timestamp": 1581973922738,
     "user": {
      "displayName": "Enzo Ferrante",
      "photoUrl": "",
      "userId": "08072285581901731690"
     },
     "user_tz": 180
    },
    "id": "6U3hYiiA4fOb",
    "outputId": "5291019d-8a37-4354-ee8e-60a16993a059"
   },
   "outputs": [
    {
     "name": "stdout",
     "output_type": "stream",
     "text": [
      "              precision    recall  f1-score   support\n",
      "\n",
      "           0       0.96      0.99      0.98       980\n",
      "           1       0.98      0.98      0.98      1135\n",
      "           2       0.93      0.95      0.94      1032\n",
      "           3       0.97      0.95      0.96      1010\n",
      "           4       0.96      0.97      0.97       982\n",
      "           5       0.97      0.96      0.97       892\n",
      "           6       0.98      0.95      0.96       958\n",
      "           7       0.95      0.94      0.95      1028\n",
      "           8       0.93      0.96      0.94       974\n",
      "           9       0.97      0.93      0.95      1009\n",
      "\n",
      "    accuracy                           0.96     10000\n",
      "   macro avg       0.96      0.96      0.96     10000\n",
      "weighted avg       0.96      0.96      0.96     10000\n",
      "\n"
     ]
    },
    {
     "data": {
      "image/png": "[encoded data removed]",
      "text/plain": [
       "<Figure size 720x720 with 2 Axes>"
      ]
     },
     "metadata": {
      "needs_background": "light"
     },
     "output_type": "display_data"
    }
   ],
   "source": [
    "# Mostramos los resultados\n",
    "showTestResults(net)"
   ]
  },
  {
   "cell_type": "markdown",
   "metadata": {
    "id": "0ee9CYVb9B22"
   },
   "source": [
    "# Entregable\n",
    "\n",
    "1. Implementar el perceptrón multicapa y la red neuronal convolucional solicitadas.\n",
    "\n",
    "2. Para el caso de la red neuronal convolucional, realizar el cálculo del tamaño de la entrada y salida en cada capa convolucional en función de los parámetros de cada capa (tamaño del kernel, padding, stride, etc) para garantizar que los tensores que fluyen por la red sean del tamaño adecuado. Indicar el tamaño de los feature maps a medida que fluyen por la red.\n",
    "\n",
    "3. Comparar la accuracy obtenida por el perceptrón muticapa y la red neuronal convolucional. "
   ]
  },
  {
   "cell_type": "markdown",
   "metadata": {
    "id": "B-dVul2q2Zxq"
   },
   "source": [
    "2.  \n",
    "Calculo para la red conv:\n",
    "(Para la red que me dio \"mejores\" resultados)\n",
    "\n",
    "* input: matriz de 28x28.\n",
    "* primer capa: kernel de dimesion 5x5 con 6 niveles de profunidad, stride=1 y funcion de activacion ReLU -> 6 matrices de 24x24.\n",
    "* aplicamos un maxPool de 2x2 (a cada una),stride=2 -> 6 matrices de 12x12.\n",
    "* se aplica: kernel de 3x3x6 con 16 niveles de profundidad con stride 1, nuevamente con ReLU resultando en 16 matrices de 10x10. \n",
    "* aplicamos: maxPooling de 2x2, stride=2 -> 16 matrices de 5x5. \n",
    "* aplicamos: view -> 16*5*5 nodos en nuestra capa densa.\n",
    "* capas ocultas: tamaños 120, 84 y 10(ambas densas), ReLU como funcion de activacion y para la salida, aplicamos softmax.\n",
    "\n",
    "\n",
    "3.\n",
    "\n",
    "accuracy(`MLP`) = 0.88 \n",
    "\n",
    "accuracy(`CNN`) = 0.96"
   ]
  }
 ],
 "metadata": {
  "accelerator": "GPU",
  "colab": {
   "authorship_tag": "ABX9TyODxf1WWdrpf5v93BIsorQi",
   "collapsed_sections": [],
   "name": "Práctica 4 - Estudiantes",
   "provenance": [
    {
     "file_id": "1wBvzDoywTvlX2T63Dn2u4uQZraG7eDaQ",
     "timestamp": 1581974193876
    }
   ]
  },
  "kernelspec": {
   "display_name": "Python 3 (ipykernel)",
   "language": "python",
   "name": "python3"
  },
  "language_info": {
   "codemirror_mode": {
    "name": "ipython",
    "version": 3
   },
   "file_extension": ".py",
   "mimetype": "text/x-python",
   "name": "python",
   "nbconvert_exporter": "python",
   "pygments_lexer": "ipython3",
   "version": "3.10.12"
  }
 },
 "nbformat": 4,
 "nbformat_minor": 1
}
